{
 "cells": [
  {
   "cell_type": "code",
   "id": "initial_id",
   "metadata": {
    "collapsed": true,
    "ExecuteTime": {
     "end_time": "2024-06-22T19:54:34.636264Z",
     "start_time": "2024-06-22T19:54:34.630808Z"
    }
   },
   "source": [
    "dict = {'k1': \"cat\", 'k2': \"dog\", 'k3': \"mouse\", 'k4': \"fish\"}\n",
    "dict"
   ],
   "outputs": [
    {
     "data": {
      "text/plain": [
       "{'k1': 'cat', 'k2': 'dog', 'k3': 'mouse', 'k4': 'fish'}"
      ]
     },
     "execution_count": 1,
     "metadata": {},
     "output_type": "execute_result"
    }
   ],
   "execution_count": 1
  },
  {
   "metadata": {
    "ExecuteTime": {
     "end_time": "2024-06-22T19:59:05.703104Z",
     "start_time": "2024-06-22T19:59:05.700142Z"
    }
   },
   "cell_type": "code",
   "source": "dict['k1']",
   "id": "710b60589f32d78d",
   "outputs": [
    {
     "data": {
      "text/plain": [
       "'cat'"
      ]
     },
     "execution_count": 2,
     "metadata": {},
     "output_type": "execute_result"
    }
   ],
   "execution_count": 2
  },
  {
   "metadata": {
    "ExecuteTime": {
     "end_time": "2024-06-22T19:59:40.635627Z",
     "start_time": "2024-06-22T19:59:40.632767Z"
    }
   },
   "cell_type": "code",
   "source": [
    "dict['k5'] = 'parrot'\n",
    "dict"
   ],
   "id": "8d7ac54e3000f09d",
   "outputs": [
    {
     "data": {
      "text/plain": [
       "{'k1': 'cat', 'k2': 'dog', 'k3': 'mouse', 'k4': 'fish', 'k5': 'parrot'}"
      ]
     },
     "execution_count": 3,
     "metadata": {},
     "output_type": "execute_result"
    }
   ],
   "execution_count": 3
  },
  {
   "metadata": {
    "ExecuteTime": {
     "end_time": "2024-06-22T20:00:21.379942Z",
     "start_time": "2024-06-22T20:00:21.377823Z"
    }
   },
   "cell_type": "code",
   "source": [
    "dict['k2'] = 'squirrel'\n",
    "dict"
   ],
   "id": "17e718efccf4040",
   "outputs": [
    {
     "data": {
      "text/plain": [
       "{'k1': 'cat', 'k2': 'squirrel', 'k3': 'mouse', 'k4': 'fish', 'k5': 'parrot'}"
      ]
     },
     "execution_count": 4,
     "metadata": {},
     "output_type": "execute_result"
    }
   ],
   "execution_count": 4
  },
  {
   "metadata": {
    "ExecuteTime": {
     "end_time": "2024-06-22T20:01:07.876992Z",
     "start_time": "2024-06-22T20:01:07.875091Z"
    }
   },
   "cell_type": "code",
   "source": "dep_workers = {'dep_1': 'Peter', 'dep_2': ['Jennifer', 'Michael', 'Tommy']}",
   "id": "77d319590b738036",
   "outputs": [],
   "execution_count": 5
  },
  {
   "metadata": {
    "ExecuteTime": {
     "end_time": "2024-06-22T20:01:20.068650Z",
     "start_time": "2024-06-22T20:01:20.066174Z"
    }
   },
   "cell_type": "code",
   "source": "dep_workers['dep_2']",
   "id": "c68710184966c519",
   "outputs": [
    {
     "data": {
      "text/plain": [
       "['Jennifer', 'Michael', 'Tommy']"
      ]
     },
     "execution_count": 6,
     "metadata": {},
     "output_type": "execute_result"
    }
   ],
   "execution_count": 6
  },
  {
   "metadata": {
    "ExecuteTime": {
     "end_time": "2024-06-22T20:02:34.557324Z",
     "start_time": "2024-06-22T20:02:34.555354Z"
    }
   },
   "cell_type": "code",
   "source": [
    "Team = {}\n",
    "Team['Point Guard'] = 'Dirk'\n",
    "Team['Shooting Guard'] = 'Al'\n",
    "Team['Small Forward'] = 'Sean'\n",
    "Team['Power Forward'] = 'Alexander'\n",
    "Team['Center'] = 'Hector'"
   ],
   "id": "58a11b653ae1d38d",
   "outputs": [],
   "execution_count": 7
  },
  {
   "metadata": {
    "ExecuteTime": {
     "end_time": "2024-06-22T20:03:00.829559Z",
     "start_time": "2024-06-22T20:03:00.827597Z"
    }
   },
   "cell_type": "code",
   "source": "print (Team['Center'])",
   "id": "1e7c71826a531a70",
   "outputs": [
    {
     "name": "stdout",
     "output_type": "stream",
     "text": [
      "Hector\n"
     ]
    }
   ],
   "execution_count": 8
  },
  {
   "metadata": {
    "ExecuteTime": {
     "end_time": "2024-06-22T20:03:20.303380Z",
     "start_time": "2024-06-22T20:03:20.300962Z"
    }
   },
   "cell_type": "code",
   "source": "print (Team.get('Small Forward'))",
   "id": "71fe60f6f49b7c7c",
   "outputs": [
    {
     "name": "stdout",
     "output_type": "stream",
     "text": [
      "Sean\n"
     ]
    }
   ],
   "execution_count": 9
  },
  {
   "metadata": {
    "ExecuteTime": {
     "end_time": "2024-06-22T20:03:45.504122Z",
     "start_time": "2024-06-22T20:03:45.502251Z"
    }
   },
   "cell_type": "code",
   "source": "print (Team.get('Coach'))",
   "id": "54ce3d31792fbe04",
   "outputs": [
    {
     "name": "stdout",
     "output_type": "stream",
     "text": [
      "None\n"
     ]
    }
   ],
   "execution_count": 10
  },
  {
   "metadata": {
    "ExecuteTime": {
     "end_time": "2024-06-22T20:13:24.917756Z",
     "start_time": "2024-06-22T20:13:24.913692Z"
    }
   },
   "cell_type": "code",
   "source": [
    "Menu = {'meal_1':'Spaghetti', 'meal_2':'Fries', 'meal_3':'Cheeseburger', 'meal_4':'Lasagna', 'meal_5':'Soup'}\n",
    "Price_list = {}\n",
    "Price_list['Spaghetti'] = 10\n",
    "Price_list['Fries'] = 5\n",
    "Price_list['Cheesburger'] = 8\n",
    "Price_list['Lasagna'] = 12\n",
    "Price_list['Soup'] = 5\n",
    "Price_list"
   ],
   "id": "88d8f95265d255fe",
   "outputs": [
    {
     "data": {
      "text/plain": [
       "{'Spaghetti': 10, 'Fries': 5, 'Cheesburger': 8, 'Lasagna': 12, 'Soup': 5}"
      ]
     },
     "execution_count": 13,
     "metadata": {},
     "output_type": "execute_result"
    }
   ],
   "execution_count": 13
  },
  {
   "metadata": {},
   "cell_type": "code",
   "outputs": [],
   "execution_count": null,
   "source": "",
   "id": "c9040159bc45b483"
  }
 ],
 "metadata": {
  "kernelspec": {
   "display_name": "Python 3",
   "language": "python",
   "name": "python3"
  },
  "language_info": {
   "codemirror_mode": {
    "name": "ipython",
    "version": 2
   },
   "file_extension": ".py",
   "mimetype": "text/x-python",
   "name": "python",
   "nbconvert_exporter": "python",
   "pygments_lexer": "ipython2",
   "version": "2.7.6"
  }
 },
 "nbformat": 4,
 "nbformat_minor": 5
}
