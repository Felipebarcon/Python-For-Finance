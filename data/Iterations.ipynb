{
 "cells": [
  {
   "cell_type": "code",
   "id": "initial_id",
   "metadata": {
    "collapsed": true,
    "ExecuteTime": {
     "end_time": "2024-06-22T20:18:35.903408Z",
     "start_time": "2024-06-22T20:18:35.899709Z"
    }
   },
   "source": "even = [0, 2, 4, 6, 8, 10, 12, 14, 16, 18, 20]",
   "outputs": [],
   "execution_count": 1
  },
  {
   "metadata": {
    "ExecuteTime": {
     "end_time": "2024-06-22T20:19:44.277782Z",
     "start_time": "2024-06-22T20:19:44.275220Z"
    }
   },
   "cell_type": "code",
   "source": [
    "for n in even:\n",
    "    print(n)"
   ],
   "id": "b3a65cee3e97c940",
   "outputs": [
    {
     "name": "stdout",
     "output_type": "stream",
     "text": [
      "0\n",
      "2\n",
      "4\n",
      "6\n",
      "8\n",
      "10\n",
      "12\n",
      "14\n",
      "16\n",
      "18\n",
      "20\n"
     ]
    }
   ],
   "execution_count": 2
  },
  {
   "metadata": {
    "ExecuteTime": {
     "end_time": "2024-06-22T20:21:16.009204Z",
     "start_time": "2024-06-22T20:21:16.006568Z"
    }
   },
   "cell_type": "code",
   "source": [
    "for n in even:\n",
    "    print(n, end=' ')"
   ],
   "id": "ce86a42b16fd9932",
   "outputs": [
    {
     "name": "stdout",
     "output_type": "stream",
     "text": [
      "0 2 4 6 8 10 12 14 16 18 20 "
     ]
    }
   ],
   "execution_count": 3
  },
  {
   "metadata": {
    "ExecuteTime": {
     "end_time": "2024-06-22T20:26:00.576010Z",
     "start_time": "2024-06-22T20:26:00.573103Z"
    }
   },
   "cell_type": "code",
   "source": [
    "x = 0\n",
    "while x <= 20:\n",
    "    print(x, end=' ')\n",
    "    x += 2"
   ],
   "id": "c085605c7537358",
   "outputs": [
    {
     "name": "stdout",
     "output_type": "stream",
     "text": [
      "0 2 4 6 8 10 12 14 16 18 20 "
     ]
    }
   ],
   "execution_count": 6
  },
  {
   "metadata": {
    "ExecuteTime": {
     "end_time": "2024-06-22T20:29:10.212176Z",
     "start_time": "2024-06-22T20:29:10.209680Z"
    }
   },
   "cell_type": "code",
   "source": [
    "x = 1\n",
    "while x <= 30:\n",
    "    print(x, end=' ')\n",
    "    x += 2"
   ],
   "id": "18232e193538c78f",
   "outputs": [
    {
     "name": "stdout",
     "output_type": "stream",
     "text": [
      "1 3 5 7 9 11 13 15 17 19 21 23 25 27 29 "
     ]
    }
   ],
   "execution_count": 9
  },
  {
   "metadata": {
    "ExecuteTime": {
     "end_time": "2024-06-22T20:32:02.223890Z",
     "start_time": "2024-06-22T20:32:02.220674Z"
    }
   },
   "cell_type": "code",
   "source": "range(10)",
   "id": "2891311933673bba",
   "outputs": [
    {
     "data": {
      "text/plain": [
       "range(0, 10)"
      ]
     },
     "execution_count": 10,
     "metadata": {},
     "output_type": "execute_result"
    }
   ],
   "execution_count": 10
  },
  {
   "metadata": {
    "ExecuteTime": {
     "end_time": "2024-06-22T20:32:37.058973Z",
     "start_time": "2024-06-22T20:32:37.056866Z"
    }
   },
   "cell_type": "code",
   "source": "list(range(10))",
   "id": "7fe570c64256cce5",
   "outputs": [
    {
     "data": {
      "text/plain": [
       "[0, 1, 2, 3, 4, 5, 6, 7, 8, 9]"
      ]
     },
     "execution_count": 11,
     "metadata": {},
     "output_type": "execute_result"
    }
   ],
   "execution_count": 11
  },
  {
   "metadata": {
    "ExecuteTime": {
     "end_time": "2024-06-22T20:33:22.350513Z",
     "start_time": "2024-06-22T20:33:22.347833Z"
    }
   },
   "cell_type": "code",
   "source": "range(3, 7)",
   "id": "9d3d85bdaeba8d91",
   "outputs": [
    {
     "data": {
      "text/plain": [
       "range(3, 7)"
      ]
     },
     "execution_count": 12,
     "metadata": {},
     "output_type": "execute_result"
    }
   ],
   "execution_count": 12
  },
  {
   "metadata": {
    "ExecuteTime": {
     "end_time": "2024-06-22T20:33:42.280076Z",
     "start_time": "2024-06-22T20:33:42.277998Z"
    }
   },
   "cell_type": "code",
   "source": "list(range(3, 7))",
   "id": "350e5a4b1ec33bf2",
   "outputs": [
    {
     "data": {
      "text/plain": [
       "[3, 4, 5, 6]"
      ]
     },
     "execution_count": 13,
     "metadata": {},
     "output_type": "execute_result"
    }
   ],
   "execution_count": 13
  },
  {
   "metadata": {
    "ExecuteTime": {
     "end_time": "2024-06-22T20:34:05.030461Z",
     "start_time": "2024-06-22T20:34:05.027803Z"
    }
   },
   "cell_type": "code",
   "source": "range(1, 20, 2)",
   "id": "7a882e6a534a3a05",
   "outputs": [
    {
     "data": {
      "text/plain": [
       "range(1, 20, 2)"
      ]
     },
     "execution_count": 14,
     "metadata": {},
     "output_type": "execute_result"
    }
   ],
   "execution_count": 14
  },
  {
   "metadata": {
    "ExecuteTime": {
     "end_time": "2024-06-22T20:34:23.742605Z",
     "start_time": "2024-06-22T20:34:23.740094Z"
    }
   },
   "cell_type": "code",
   "source": "list(range(1, 20, 2))",
   "id": "9a84eaaa2fde38da",
   "outputs": [
    {
     "data": {
      "text/plain": [
       "[1, 3, 5, 7, 9, 11, 13, 15, 17, 19]"
      ]
     },
     "execution_count": 15,
     "metadata": {},
     "output_type": "execute_result"
    }
   ],
   "execution_count": 15
  },
  {
   "metadata": {
    "ExecuteTime": {
     "end_time": "2024-06-22T20:36:56.671204Z",
     "start_time": "2024-06-22T20:36:56.668676Z"
    }
   },
   "cell_type": "code",
   "source": [
    "range(1, 10, 1)\n",
    "list(range(1, 10, 1))"
   ],
   "id": "29af4486010093e6",
   "outputs": [
    {
     "data": {
      "text/plain": [
       "[1, 2, 3, 4, 5, 6, 7, 8, 9]"
      ]
     },
     "execution_count": 23,
     "metadata": {},
     "output_type": "execute_result"
    }
   ],
   "execution_count": 23
  },
  {
   "metadata": {
    "ExecuteTime": {
     "end_time": "2024-06-22T20:42:25.584935Z",
     "start_time": "2024-06-22T20:42:25.583155Z"
    }
   },
   "cell_type": "code",
   "source": [
    "for n in range(10):\n",
    "    print(2 ** n),"
   ],
   "id": "54e59a838d7640ab",
   "outputs": [
    {
     "name": "stdout",
     "output_type": "stream",
     "text": [
      "1\n",
      "2\n",
      "4\n",
      "8\n",
      "16\n",
      "32\n",
      "64\n",
      "128\n",
      "256\n",
      "512\n"
     ]
    }
   ],
   "execution_count": 25
  },
  {
   "metadata": {
    "ExecuteTime": {
     "end_time": "2024-06-22T20:45:08.266866Z",
     "start_time": "2024-06-22T20:45:08.264562Z"
    }
   },
   "cell_type": "code",
   "source": [
    "for x in range(20):\n",
    "    if x % 2 == 0:\n",
    "        print(x, end=\" \")\n",
    "    else:\n",
    "        print(\"Odd\", end=\" \")"
   ],
   "id": "c1ab1ead68f2afbc",
   "outputs": [
    {
     "name": "stdout",
     "output_type": "stream",
     "text": [
      "0 Odd 2 Odd 4 Odd 6 Odd 8 Odd 10 Odd 12 Odd 14 Odd 16 Odd 18 Odd "
     ]
    }
   ],
   "execution_count": 26
  },
  {
   "metadata": {
    "ExecuteTime": {
     "end_time": "2024-06-22T20:45:23.614725Z",
     "start_time": "2024-06-22T20:45:23.612875Z"
    }
   },
   "cell_type": "code",
   "source": "x = [0, 1, 2]",
   "id": "870eb444c13359cf",
   "outputs": [],
   "execution_count": 27
  },
  {
   "metadata": {
    "ExecuteTime": {
     "end_time": "2024-06-22T20:45:38.299850Z",
     "start_time": "2024-06-22T20:45:38.297789Z"
    }
   },
   "cell_type": "code",
   "source": [
    "for item in x:\n",
    "    print(item, end=\" \")"
   ],
   "id": "4458af13f4a76ebe",
   "outputs": [
    {
     "name": "stdout",
     "output_type": "stream",
     "text": [
      "0 1 2 "
     ]
    }
   ],
   "execution_count": 28
  },
  {
   "metadata": {
    "ExecuteTime": {
     "end_time": "2024-06-22T20:46:16.205677Z",
     "start_time": "2024-06-22T20:46:16.202974Z"
    }
   },
   "cell_type": "code",
   "source": [
    "for item in range(len(x)):\n",
    "    print(x[item], end=\" \")"
   ],
   "id": "148c6408ab58747c",
   "outputs": [
    {
     "name": "stdout",
     "output_type": "stream",
     "text": [
      "0 1 2 "
     ]
    }
   ],
   "execution_count": 29
  },
  {
   "metadata": {
    "ExecuteTime": {
     "end_time": "2024-06-22T20:49:26.333707Z",
     "start_time": "2024-06-22T20:49:26.330857Z"
    }
   },
   "cell_type": "code",
   "source": [
    "for n in range(1, 11):\n",
    "    print(n * 2, end=' ')"
   ],
   "id": "b40811602e2b055a",
   "outputs": [
    {
     "name": "stdout",
     "output_type": "stream",
     "text": [
      "2 4 6 8 10 12 14 16 18 20 "
     ]
    }
   ],
   "execution_count": 31
  },
  {
   "metadata": {
    "ExecuteTime": {
     "end_time": "2024-06-22T20:58:20.574223Z",
     "start_time": "2024-06-22T20:58:20.571935Z"
    }
   },
   "cell_type": "code",
   "source": [
    "for x in range(1, 31):\n",
    "    if x % 2 == 1:\n",
    "        print(x, end=\" \")\n",
    "    else:\n",
    "        print(\"Even\", end=\" \")"
   ],
   "id": "9dde29b3b5ebd34e",
   "outputs": [
    {
     "name": "stdout",
     "output_type": "stream",
     "text": [
      "1 Even 3 Even 5 Even 7 Even 9 Even 11 Even 13 Even 15 Even 17 Even 19 Even 21 Even 23 Even 25 Even 27 Even 29 Even "
     ]
    }
   ],
   "execution_count": 34
  },
  {
   "metadata": {
    "ExecuteTime": {
     "end_time": "2024-06-22T21:05:14.132941Z",
     "start_time": "2024-06-22T21:05:14.130527Z"
    }
   },
   "cell_type": "code",
   "source": [
    "n = [1, 2, 3, 4, 5, 6]\n",
    "\n",
    "for item in n:\n",
    "    print(item * 10, end=' ')\n",
    "\n",
    "for item in range(len(n)):\n",
    "    print(n, end=' ')"
   ],
   "id": "85cb1ccef2b25260",
   "outputs": [
    {
     "name": "stdout",
     "output_type": "stream",
     "text": [
      "10 20 30 40 50 60 [1, 2, 3, 4, 5, 6] [1, 2, 3, 4, 5, 6] [1, 2, 3, 4, 5, 6] [1, 2, 3, 4, 5, 6] [1, 2, 3, 4, 5, 6] [1, 2, 3, 4, 5, 6] "
     ]
    }
   ],
   "execution_count": 38
  },
  {
   "metadata": {
    "ExecuteTime": {
     "end_time": "2024-06-22T21:04:24.727428Z",
     "start_time": "2024-06-22T21:04:24.725095Z"
    }
   },
   "cell_type": "code",
   "source": "range(len(n))",
   "id": "2b4baeaa0123c894",
   "outputs": [
    {
     "data": {
      "text/plain": [
       "range(0, 6)"
      ]
     },
     "execution_count": 37,
     "metadata": {},
     "output_type": "execute_result"
    }
   ],
   "execution_count": 37
  },
  {
   "metadata": {
    "ExecuteTime": {
     "end_time": "2024-06-22T21:43:56.912546Z",
     "start_time": "2024-06-22T21:43:56.910609Z"
    }
   },
   "cell_type": "code",
   "source": [
    "def count(numbers):\n",
    "    total = 0\n",
    "    for x in numbers:\n",
    "        if x < 20:\n",
    "            total += 1\n",
    "    return total"
   ],
   "id": "606fbdd4b124e6dc",
   "outputs": [],
   "execution_count": 3
  },
  {
   "metadata": {
    "ExecuteTime": {
     "end_time": "2024-06-22T21:43:58.266636Z",
     "start_time": "2024-06-22T21:43:58.264343Z"
    }
   },
   "cell_type": "code",
   "source": "list_1 = [1, 3, 7, 15, 23, 17, 43, 56, 98]",
   "id": "cdc502909e36d0ed",
   "outputs": [],
   "execution_count": 4
  },
  {
   "metadata": {
    "ExecuteTime": {
     "end_time": "2024-06-22T21:43:59.658778Z",
     "start_time": "2024-06-22T21:43:59.655061Z"
    }
   },
   "cell_type": "code",
   "source": "count(list_1)",
   "id": "6a5f1501448c837a",
   "outputs": [
    {
     "data": {
      "text/plain": [
       "5"
      ]
     },
     "execution_count": 5,
     "metadata": {},
     "output_type": "execute_result"
    }
   ],
   "execution_count": 5
  },
  {
   "metadata": {
    "ExecuteTime": {
     "end_time": "2024-06-22T21:47:05.038262Z",
     "start_time": "2024-06-22T21:47:05.036570Z"
    }
   },
   "cell_type": "code",
   "source": [
    "prices = {\n",
    "    \"box_of_spaghetti\": 4,\n",
    "    \"lasagna\": 5,\n",
    "    \"hamburger\": 2\n",
    "}\n",
    "quantity = {\n",
    "    \"box_of_spaghetti\": 6,\n",
    "    \"lasagna\": 10,\n",
    "    \"hamburger\": 0\n",
    "}"
   ],
   "id": "6d65c8e22c8a706a",
   "outputs": [],
   "execution_count": 6
  },
  {
   "metadata": {
    "ExecuteTime": {
     "end_time": "2024-06-22T21:48:40.404400Z",
     "start_time": "2024-06-22T21:48:40.402781Z"
    }
   },
   "cell_type": "code",
   "source": "money_spent = 0",
   "id": "d339a54d790da64d",
   "outputs": [],
   "execution_count": 7
  },
  {
   "metadata": {
    "ExecuteTime": {
     "end_time": "2024-06-22T21:49:18.556297Z",
     "start_time": "2024-06-22T21:49:18.554359Z"
    }
   },
   "cell_type": "code",
   "source": [
    "for i in prices:\n",
    "    money_spent = money_spent + (prices[i] * quantity[i])\n",
    "print(money_spent)"
   ],
   "id": "cf8a7a326b32d3de",
   "outputs": [
    {
     "name": "stdout",
     "output_type": "stream",
     "text": [
      "74\n"
     ]
    }
   ],
   "execution_count": 8
  },
  {
   "metadata": {
    "ExecuteTime": {
     "end_time": "2024-06-22T21:50:32.148917Z",
     "start_time": "2024-06-22T21:50:32.146870Z"
    }
   },
   "cell_type": "code",
   "source": [
    "prices = {\n",
    "    \"box_of_spaghetti\" : 4,\n",
    "    \"lasagna\"  : 5,\n",
    "    \"hamburger\" : 2\n",
    "   }\n",
    "quantity = {\n",
    "    \"box_of_spaghetti\" : 6,\n",
    "    \"lasagna\"  : 10,\n",
    "    \"hamburger\" : 0\n",
    "    }\n",
    "\n",
    "money_spent = 0"
   ],
   "id": "75e545c07a09be45",
   "outputs": [],
   "execution_count": 9
  },
  {
   "metadata": {
    "ExecuteTime": {
     "end_time": "2024-06-22T21:54:58.121797Z",
     "start_time": "2024-06-22T21:54:58.120048Z"
    }
   },
   "cell_type": "code",
   "source": [
    "for  i in prices:\n",
    "    if prices[i] >= 5:\n",
    "        money_spent = money_spent + quantity[i] * prices[i]"
   ],
   "id": "67a9fd8c710a885c",
   "outputs": [],
   "execution_count": 12
  },
  {
   "metadata": {
    "ExecuteTime": {
     "end_time": "2024-06-22T21:54:59.441702Z",
     "start_time": "2024-06-22T21:54:59.439861Z"
    }
   },
   "cell_type": "code",
   "source": "print(money_spent)",
   "id": "759d2d06911c6e4",
   "outputs": [
    {
     "name": "stdout",
     "output_type": "stream",
     "text": [
      "50\n"
     ]
    }
   ],
   "execution_count": 13
  },
  {
   "metadata": {
    "ExecuteTime": {
     "end_time": "2024-06-22T21:55:52.244767Z",
     "start_time": "2024-06-22T21:55:52.242963Z"
    }
   },
   "cell_type": "code",
   "source": [
    "prices = {\n",
    "    \"box_of_spaghetti\" : 4,\n",
    "    \"lasagna\"  : 5,\n",
    "    \"hamburger\" : 2\n",
    "   }\n",
    "quantity = {\n",
    "    \"box_of_spaghetti\" : 6,\n",
    "    \"lasagna\"  : 10,\n",
    "    \"hamburger\" : 0\n",
    "    }\n",
    "\n",
    "money_spent = 0"
   ],
   "id": "b9da6bb060a79b1e",
   "outputs": [],
   "execution_count": 14
  },
  {
   "metadata": {
    "ExecuteTime": {
     "end_time": "2024-06-22T21:57:17.867919Z",
     "start_time": "2024-06-22T21:57:17.866414Z"
    }
   },
   "cell_type": "code",
   "source": [
    "for i in prices:\n",
    "    if prices[i] < 5:\n",
    "        money_spent = money_spent + quantity[i] * prices[i]"
   ],
   "id": "8e3b0f32b8c7063e",
   "outputs": [],
   "execution_count": 15
  },
  {
   "metadata": {
    "ExecuteTime": {
     "end_time": "2024-06-22T21:57:20.949384Z",
     "start_time": "2024-06-22T21:57:20.947597Z"
    }
   },
   "cell_type": "code",
   "source": "print(money_spent)",
   "id": "dffe881a8b3bc1b6",
   "outputs": [
    {
     "name": "stdout",
     "output_type": "stream",
     "text": [
      "24\n"
     ]
    }
   ],
   "execution_count": 16
  },
  {
   "metadata": {},
   "cell_type": "code",
   "outputs": [],
   "execution_count": null,
   "source": "",
   "id": "9b495d673fbe8ad0"
  }
 ],
 "metadata": {
  "kernelspec": {
   "display_name": "Python 3",
   "language": "python",
   "name": "python3"
  },
  "language_info": {
   "codemirror_mode": {
    "name": "ipython",
    "version": 2
   },
   "file_extension": ".py",
   "mimetype": "text/x-python",
   "name": "python",
   "nbconvert_exporter": "python",
   "pygments_lexer": "ipython2",
   "version": "2.7.6"
  }
 },
 "nbformat": 4,
 "nbformat_minor": 5
}
