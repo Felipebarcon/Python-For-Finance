{
 "cells": [
  {
   "cell_type": "code",
   "id": "initial_id",
   "metadata": {
    "collapsed": true,
    "ExecuteTime": {
     "end_time": "2024-06-22T19:40:07.566454Z",
     "start_time": "2024-06-22T19:40:07.561696Z"
    }
   },
   "source": [
    "x = (40, 41, 42)\n",
    "x"
   ],
   "outputs": [
    {
     "data": {
      "text/plain": [
       "(40, 41, 42)"
      ]
     },
     "execution_count": 1,
     "metadata": {},
     "output_type": "execute_result"
    }
   ],
   "execution_count": 1
  },
  {
   "metadata": {
    "ExecuteTime": {
     "end_time": "2024-06-22T19:40:28.072193Z",
     "start_time": "2024-06-22T19:40:28.068961Z"
    }
   },
   "cell_type": "code",
   "source": [
    "y = 50, 51, 52\n",
    "y"
   ],
   "id": "fb8dfb1e73423a91",
   "outputs": [
    {
     "data": {
      "text/plain": [
       "(50, 51, 52)"
      ]
     },
     "execution_count": 2,
     "metadata": {},
     "output_type": "execute_result"
    }
   ],
   "execution_count": 2
  },
  {
   "metadata": {
    "ExecuteTime": {
     "end_time": "2024-06-22T19:40:44.125048Z",
     "start_time": "2024-06-22T19:40:44.122554Z"
    }
   },
   "cell_type": "code",
   "source": [
    "a, b, c = 1, 2 ,3\n",
    "c"
   ],
   "id": "d04db7b98c0c5a5e",
   "outputs": [
    {
     "data": {
      "text/plain": [
       "3"
      ]
     },
     "execution_count": 3,
     "metadata": {},
     "output_type": "execute_result"
    }
   ],
   "execution_count": 3
  },
  {
   "metadata": {
    "ExecuteTime": {
     "end_time": "2024-06-22T19:41:00.222744Z",
     "start_time": "2024-06-22T19:41:00.220217Z"
    }
   },
   "cell_type": "code",
   "source": "x[0]",
   "id": "1a9843f02646118e",
   "outputs": [
    {
     "data": {
      "text/plain": [
       "40"
      ]
     },
     "execution_count": 4,
     "metadata": {},
     "output_type": "execute_result"
    }
   ],
   "execution_count": 4
  },
  {
   "metadata": {
    "ExecuteTime": {
     "end_time": "2024-06-22T19:41:31.515921Z",
     "start_time": "2024-06-22T19:41:31.513043Z"
    }
   },
   "cell_type": "code",
   "source": [
    "List_1 = [x, y]\n",
    "List_1"
   ],
   "id": "e8bb7f2eaa2ad6eb",
   "outputs": [
    {
     "data": {
      "text/plain": [
       "[(40, 41, 42), (50, 51, 52)]"
      ]
     },
     "execution_count": 5,
     "metadata": {},
     "output_type": "execute_result"
    }
   ],
   "execution_count": 5
  },
  {
   "metadata": {
    "ExecuteTime": {
     "end_time": "2024-06-22T19:41:45.823975Z",
     "start_time": "2024-06-22T19:41:45.821739Z"
    }
   },
   "cell_type": "code",
   "source": "type(List_1)",
   "id": "5aa15e8a90550c21",
   "outputs": [
    {
     "data": {
      "text/plain": [
       "list"
      ]
     },
     "execution_count": 6,
     "metadata": {},
     "output_type": "execute_result"
    }
   ],
   "execution_count": 6
  },
  {
   "metadata": {
    "ExecuteTime": {
     "end_time": "2024-06-22T19:42:02.500743Z",
     "start_time": "2024-06-22T19:42:02.498775Z"
    }
   },
   "cell_type": "code",
   "source": "type(x)",
   "id": "3035c171b6435c7",
   "outputs": [
    {
     "data": {
      "text/plain": [
       "tuple"
      ]
     },
     "execution_count": 7,
     "metadata": {},
     "output_type": "execute_result"
    }
   ],
   "execution_count": 7
  },
  {
   "metadata": {
    "ExecuteTime": {
     "end_time": "2024-06-22T19:43:12.379009Z",
     "start_time": "2024-06-22T19:43:12.377010Z"
    }
   },
   "cell_type": "code",
   "source": [
    "(ages, years_of_school) = \"30,17\".split(',')\n",
    "print(ages)\n",
    "print(years_of_school)"
   ],
   "id": "c33d7a9d9ebb4ab8",
   "outputs": [
    {
     "name": "stdout",
     "output_type": "stream",
     "text": [
      "30\n",
      "17\n"
     ]
    }
   ],
   "execution_count": 8
  },
  {
   "metadata": {
    "ExecuteTime": {
     "end_time": "2024-06-22T19:44:55.482821Z",
     "start_time": "2024-06-22T19:44:55.480247Z"
    }
   },
   "cell_type": "code",
   "source": [
    "def square_info(x):\n",
    "    A = x ** 2\n",
    "    P = 4 * x\n",
    "    print(\"Area and Perimeter:\")\n",
    "    return A,P\n",
    "\n",
    "square_info(3)"
   ],
   "id": "967481a807e61da6",
   "outputs": [
    {
     "name": "stdout",
     "output_type": "stream",
     "text": [
      "Area and Perimeter:\n"
     ]
    },
    {
     "data": {
      "text/plain": [
       "(9, 12)"
      ]
     },
     "execution_count": 9,
     "metadata": {},
     "output_type": "execute_result"
    }
   ],
   "execution_count": 9
  },
  {
   "metadata": {
    "ExecuteTime": {
     "end_time": "2024-06-22T19:49:37.653197Z",
     "start_time": "2024-06-22T19:49:37.650804Z"
    }
   },
   "cell_type": "code",
   "source": [
    "def rectangle_info(l, w):\n",
    "    area = l * w\n",
    "    return area\n",
    "    \n",
    "rectangle_info(2, 10)"
   ],
   "id": "9a033a159f5477ea",
   "outputs": [
    {
     "data": {
      "text/plain": [
       "20"
      ]
     },
     "execution_count": 10,
     "metadata": {},
     "output_type": "execute_result"
    }
   ],
   "execution_count": 10
  },
  {
   "metadata": {},
   "cell_type": "code",
   "outputs": [],
   "execution_count": null,
   "source": "",
   "id": "f1a2c3dc72ca88e4"
  }
 ],
 "metadata": {
  "kernelspec": {
   "display_name": "Python 3",
   "language": "python",
   "name": "python3"
  },
  "language_info": {
   "codemirror_mode": {
    "name": "ipython",
    "version": 2
   },
   "file_extension": ".py",
   "mimetype": "text/x-python",
   "name": "python",
   "nbconvert_exporter": "python",
   "pygments_lexer": "ipython2",
   "version": "2.7.6"
  }
 },
 "nbformat": 4,
 "nbformat_minor": 5
}
