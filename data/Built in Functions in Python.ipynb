{
 "cells": [
  {
   "cell_type": "code",
   "id": "initial_id",
   "metadata": {
    "collapsed": true,
    "ExecuteTime": {
     "end_time": "2024-06-22T12:51:17.336498Z",
     "start_time": "2024-06-22T12:51:17.331949Z"
    }
   },
   "source": "type(10)",
   "outputs": [
    {
     "data": {
      "text/plain": [
       "int"
      ]
     },
     "execution_count": 1,
     "metadata": {},
     "output_type": "execute_result"
    }
   ],
   "execution_count": 1
  },
  {
   "metadata": {
    "ExecuteTime": {
     "end_time": "2024-06-22T12:51:29.105768Z",
     "start_time": "2024-06-22T12:51:29.102766Z"
    }
   },
   "cell_type": "code",
   "source": "int(5.5)",
   "id": "e2fb3bcbe58a6a84",
   "outputs": [
    {
     "data": {
      "text/plain": [
       "5"
      ]
     },
     "execution_count": 2,
     "metadata": {},
     "output_type": "execute_result"
    }
   ],
   "execution_count": 2
  },
  {
   "metadata": {
    "ExecuteTime": {
     "end_time": "2024-06-22T12:51:39.269326Z",
     "start_time": "2024-06-22T12:51:39.266902Z"
    }
   },
   "cell_type": "code",
   "source": "float(3)",
   "id": "92662b599bd94268",
   "outputs": [
    {
     "data": {
      "text/plain": [
       "3.0"
      ]
     },
     "execution_count": 3,
     "metadata": {},
     "output_type": "execute_result"
    }
   ],
   "execution_count": 3
  },
  {
   "metadata": {
    "ExecuteTime": {
     "end_time": "2024-06-22T12:51:48.440711Z",
     "start_time": "2024-06-22T12:51:48.438Z"
    }
   },
   "cell_type": "code",
   "source": "str(500)",
   "id": "b82ae6b634e04faf",
   "outputs": [
    {
     "data": {
      "text/plain": [
       "'500'"
      ]
     },
     "execution_count": 4,
     "metadata": {},
     "output_type": "execute_result"
    }
   ],
   "execution_count": 4
  },
  {
   "metadata": {
    "ExecuteTime": {
     "end_time": "2024-06-22T12:52:05.866460Z",
     "start_time": "2024-06-22T12:52:05.864131Z"
    }
   },
   "cell_type": "code",
   "source": "max(10, 20, 30)",
   "id": "2b541e9069057081",
   "outputs": [
    {
     "data": {
      "text/plain": [
       "30"
      ]
     },
     "execution_count": 5,
     "metadata": {},
     "output_type": "execute_result"
    }
   ],
   "execution_count": 5
  },
  {
   "metadata": {
    "ExecuteTime": {
     "end_time": "2024-06-22T12:52:18.736822Z",
     "start_time": "2024-06-22T12:52:18.734456Z"
    }
   },
   "cell_type": "code",
   "source": "min(10,20,30)",
   "id": "ba5d07cdc0da0fbe",
   "outputs": [
    {
     "data": {
      "text/plain": [
       "10"
      ]
     },
     "execution_count": 6,
     "metadata": {},
     "output_type": "execute_result"
    }
   ],
   "execution_count": 6
  },
  {
   "metadata": {
    "ExecuteTime": {
     "end_time": "2024-06-22T12:52:55.114102Z",
     "start_time": "2024-06-22T12:52:55.111290Z"
    }
   },
   "cell_type": "code",
   "source": [
    "z = -20\n",
    "abs(z)"
   ],
   "id": "29e0a76086d25b1d",
   "outputs": [
    {
     "data": {
      "text/plain": [
       "20"
      ]
     },
     "execution_count": 7,
     "metadata": {},
     "output_type": "execute_result"
    }
   ],
   "execution_count": 7
  },
  {
   "metadata": {
    "ExecuteTime": {
     "end_time": "2024-06-22T12:53:22.608650Z",
     "start_time": "2024-06-22T12:53:22.606231Z"
    }
   },
   "cell_type": "code",
   "source": [
    "list_1 = [1,2,3,4,5]\n",
    "sum(list_1)"
   ],
   "id": "20ae78b00a2e5aee",
   "outputs": [
    {
     "data": {
      "text/plain": [
       "15"
      ]
     },
     "execution_count": 8,
     "metadata": {},
     "output_type": "execute_result"
    }
   ],
   "execution_count": 8
  },
  {
   "metadata": {
    "ExecuteTime": {
     "end_time": "2024-06-22T12:54:07.213233Z",
     "start_time": "2024-06-22T12:54:07.211074Z"
    }
   },
   "cell_type": "code",
   "source": "round(3.142156, 2)",
   "id": "ed7944e795f470e7",
   "outputs": [
    {
     "data": {
      "text/plain": [
       "3.14"
      ]
     },
     "execution_count": 9,
     "metadata": {},
     "output_type": "execute_result"
    }
   ],
   "execution_count": 9
  },
  {
   "metadata": {
    "ExecuteTime": {
     "end_time": "2024-06-22T12:54:40.985683Z",
     "start_time": "2024-06-22T12:54:40.983306Z"
    }
   },
   "cell_type": "code",
   "source": "round(3.2)",
   "id": "12852a9d93bcbebf",
   "outputs": [
    {
     "data": {
      "text/plain": [
       "3"
      ]
     },
     "execution_count": 10,
     "metadata": {},
     "output_type": "execute_result"
    }
   ],
   "execution_count": 10
  },
  {
   "metadata": {
    "ExecuteTime": {
     "end_time": "2024-06-22T12:55:02.476459Z",
     "start_time": "2024-06-22T12:55:02.474040Z"
    }
   },
   "cell_type": "code",
   "source": "2 ** 10",
   "id": "6a1bfed37cb7bbb7",
   "outputs": [
    {
     "data": {
      "text/plain": [
       "1024"
      ]
     },
     "execution_count": 11,
     "metadata": {},
     "output_type": "execute_result"
    }
   ],
   "execution_count": 11
  },
  {
   "metadata": {
    "ExecuteTime": {
     "end_time": "2024-06-22T12:55:12.344735Z",
     "start_time": "2024-06-22T12:55:12.342213Z"
    }
   },
   "cell_type": "code",
   "source": "pow(2,10)",
   "id": "7173020fe34a4a72",
   "outputs": [
    {
     "data": {
      "text/plain": [
       "1024"
      ]
     },
     "execution_count": 12,
     "metadata": {},
     "output_type": "execute_result"
    }
   ],
   "execution_count": 12
  },
  {
   "metadata": {
    "ExecuteTime": {
     "end_time": "2024-06-22T12:55:32.905054Z",
     "start_time": "2024-06-22T12:55:32.902899Z"
    }
   },
   "cell_type": "code",
   "source": "len(\"Mathematics\")",
   "id": "7863db0533830ce1",
   "outputs": [
    {
     "data": {
      "text/plain": [
       "11"
      ]
     },
     "execution_count": 13,
     "metadata": {},
     "output_type": "execute_result"
    }
   ],
   "execution_count": 13
  },
  {
   "metadata": {
    "ExecuteTime": {
     "end_time": "2024-06-22T13:12:07.258223Z",
     "start_time": "2024-06-22T13:12:07.255997Z"
    }
   },
   "cell_type": "code",
   "source": [
    "def distance_from_zero(x):\n",
    "    if type(x) == int:\n",
    "        print(abs(x)) \n",
    "    else:\n",
    "        print(\"Not possible\") \n",
    "\n",
    "distance_from_zero(-10)\n",
    "distance_from_zero(\"Cat\")"
   ],
   "id": "bc61eedad295e2aa",
   "outputs": [
    {
     "name": "stdout",
     "output_type": "stream",
     "text": [
      "10\n",
      "Not possible\n"
     ]
    }
   ],
   "execution_count": 21
  }
 ],
 "metadata": {
  "kernelspec": {
   "display_name": "Python 3",
   "language": "python",
   "name": "python3"
  },
  "language_info": {
   "codemirror_mode": {
    "name": "ipython",
    "version": 2
   },
   "file_extension": ".py",
   "mimetype": "text/x-python",
   "name": "python",
   "nbconvert_exporter": "python",
   "pygments_lexer": "ipython2",
   "version": "2.7.6"
  }
 },
 "nbformat": 4,
 "nbformat_minor": 5
}
