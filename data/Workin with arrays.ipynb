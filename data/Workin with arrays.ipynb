{
 "cells": [
  {
   "cell_type": "code",
   "execution_count": 1,
   "id": "8e98e499a89d3d6c",
   "metadata": {
    "ExecuteTime": {
     "end_time": "2024-06-23T11:15:10.973819Z",
     "start_time": "2024-06-23T11:15:10.946463Z"
    }
   },
   "outputs": [],
   "source": [
    "import numpy as np"
   ]
  },
  {
   "cell_type": "code",
   "id": "26ae3a5af83cbdb8",
   "metadata": {
    "ExecuteTime": {
     "end_time": "2024-06-23T11:24:27.464931Z",
     "start_time": "2024-06-23T11:24:27.461696Z"
    }
   },
   "source": [
    "a = np.array([[0,1, 2, 3], [4, 5, 6, 7]])\n",
    "a"
   ],
   "outputs": [
    {
     "data": {
      "text/plain": [
       "array([[0, 1, 2, 3],\n",
       "       [4, 5, 6, 7]])"
      ]
     },
     "execution_count": 9,
     "metadata": {},
     "output_type": "execute_result"
    }
   ],
   "execution_count": 9
  },
  {
   "metadata": {
    "ExecuteTime": {
     "end_time": "2024-06-23T11:25:41.481530Z",
     "start_time": "2024-06-23T11:25:41.479110Z"
    }
   },
   "cell_type": "code",
   "source": "a.shape",
   "id": "27efec3c5b0c3575",
   "outputs": [
    {
     "data": {
      "text/plain": [
       "(2, 4)"
      ]
     },
     "execution_count": 10,
     "metadata": {},
     "output_type": "execute_result"
    }
   ],
   "execution_count": 10
  },
  {
   "metadata": {
    "ExecuteTime": {
     "end_time": "2024-06-23T11:26:14.529220Z",
     "start_time": "2024-06-23T11:26:14.526697Z"
    }
   },
   "cell_type": "code",
   "source": "a[1,3]",
   "id": "9f50403ca4644cf9",
   "outputs": [
    {
     "data": {
      "text/plain": [
       "np.int64(7)"
      ]
     },
     "execution_count": 11,
     "metadata": {},
     "output_type": "execute_result"
    }
   ],
   "execution_count": 11
  },
  {
   "metadata": {
    "ExecuteTime": {
     "end_time": "2024-06-23T11:26:37.125345Z",
     "start_time": "2024-06-23T11:26:37.122829Z"
    }
   },
   "cell_type": "code",
   "source": [
    "a[1,2] = 8\n",
    "a"
   ],
   "id": "1cc46b22f674b5ce",
   "outputs": [
    {
     "data": {
      "text/plain": [
       "array([[0, 1, 2, 3],\n",
       "       [4, 5, 8, 7]])"
      ]
     },
     "execution_count": 12,
     "metadata": {},
     "output_type": "execute_result"
    }
   ],
   "execution_count": 12
  },
  {
   "metadata": {
    "ExecuteTime": {
     "end_time": "2024-06-23T11:26:55.079586Z",
     "start_time": "2024-06-23T11:26:55.077278Z"
    }
   },
   "cell_type": "code",
   "source": "a[0]",
   "id": "6ac597cbe951ffd5",
   "outputs": [
    {
     "data": {
      "text/plain": [
       "array([0, 1, 2, 3])"
      ]
     },
     "execution_count": 13,
     "metadata": {},
     "output_type": "execute_result"
    }
   ],
   "execution_count": 13
  },
  {
   "metadata": {
    "ExecuteTime": {
     "end_time": "2024-06-23T11:27:05.297792Z",
     "start_time": "2024-06-23T11:27:05.295433Z"
    }
   },
   "cell_type": "code",
   "source": "a[1]",
   "id": "8b08266b5ba4a6bb",
   "outputs": [
    {
     "data": {
      "text/plain": [
       "array([4, 5, 8, 7])"
      ]
     },
     "execution_count": 14,
     "metadata": {},
     "output_type": "execute_result"
    }
   ],
   "execution_count": 14
  },
  {
   "metadata": {
    "ExecuteTime": {
     "end_time": "2024-06-23T11:28:13.008335Z",
     "start_time": "2024-06-23T11:28:13.005271Z"
    }
   },
   "cell_type": "code",
   "source": [
    "b = np.array([3,5])\n",
    "b"
   ],
   "id": "bd1dd49e3323ac00",
   "outputs": [
    {
     "data": {
      "text/plain": [
       "array([3, 5])"
      ]
     },
     "execution_count": 16,
     "metadata": {},
     "output_type": "execute_result"
    }
   ],
   "execution_count": 16
  },
  {
   "metadata": {},
   "cell_type": "code",
   "outputs": [],
   "execution_count": null,
   "source": "",
   "id": "a3035d09fea73b47"
  }
 ],
 "metadata": {
  "kernelspec": {
   "display_name": "Python 3 (ipykernel)",
   "language": "python",
   "name": "python3"
  },
  "language_info": {
   "codemirror_mode": {
    "name": "ipython",
    "version": 3
   },
   "file_extension": ".py",
   "mimetype": "text/x-python",
   "name": "python",
   "nbconvert_exporter": "python",
   "pygments_lexer": "ipython3",
   "version": "3.12.4"
  }
 },
 "nbformat": 4,
 "nbformat_minor": 5
}
