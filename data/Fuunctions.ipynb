{
 "cells": [
  {
   "cell_type": "code",
   "id": "initial_id",
   "metadata": {
    "collapsed": true,
    "ExecuteTime": {
     "end_time": "2024-06-22T12:18:11.096385Z",
     "start_time": "2024-06-22T12:18:11.093091Z"
    }
   },
   "source": [
    "def plus_ten(a):\n",
    "    return a + 10"
   ],
   "outputs": [],
   "execution_count": 1
  },
  {
   "metadata": {
    "ExecuteTime": {
     "end_time": "2024-06-22T12:18:20.368871Z",
     "start_time": "2024-06-22T12:18:20.364917Z"
    }
   },
   "cell_type": "code",
   "source": "plus_ten(2)",
   "id": "77ac6793235b29a3",
   "outputs": [
    {
     "data": {
      "text/plain": [
       "12"
      ]
     },
     "execution_count": 2,
     "metadata": {},
     "output_type": "execute_result"
    }
   ],
   "execution_count": 2
  },
  {
   "metadata": {
    "ExecuteTime": {
     "end_time": "2024-06-22T12:26:00.656981Z",
     "start_time": "2024-06-22T12:26:00.653457Z"
    }
   },
   "cell_type": "code",
   "source": [
    "def plus_ten(a):\n",
    "    result = a + 10\n",
    "    print(\"Outcome\")\n",
    "    return result\n",
    "\n",
    "plus_ten(10)"
   ],
   "id": "d4b44402e9bbe97c",
   "outputs": [
    {
     "name": "stdout",
     "output_type": "stream",
     "text": [
      "Outcome\n"
     ]
    },
    {
     "data": {
      "text/plain": [
       "20"
      ]
     },
     "execution_count": 5,
     "metadata": {},
     "output_type": "execute_result"
    }
   ],
   "execution_count": 5
  },
  {
   "metadata": {
    "ExecuteTime": {
     "end_time": "2024-06-22T12:28:25.893653Z",
     "start_time": "2024-06-22T12:28:25.891053Z"
    }
   },
   "cell_type": "code",
   "source": [
    "def exponentiation_exp_2(x):\n",
    "    print(\"Raised to the power of 2:\")\n",
    "    result = x ** 2\n",
    "    return result\n",
    "\n",
    "exponentiation_exp_2(5)"
   ],
   "id": "bdc9bc4ddb2cd663",
   "outputs": [
    {
     "name": "stdout",
     "output_type": "stream",
     "text": [
      "Raised to the power of 2:\n"
     ]
    },
    {
     "data": {
      "text/plain": [
       "25"
      ]
     },
     "execution_count": 6,
     "metadata": {},
     "output_type": "execute_result"
    }
   ],
   "execution_count": 6
  },
  {
   "metadata": {
    "ExecuteTime": {
     "end_time": "2024-06-22T12:31:51.142589Z",
     "start_time": "2024-06-22T12:31:51.139739Z"
    }
   },
   "cell_type": "code",
   "source": [
    "def wage(w_hours):\n",
    "    return w_hours * 25\n",
    "\n",
    "def with_bonus(w_hours):\n",
    "    return wage(w_hours) + 50\n",
    "\n",
    "wage(8), with_bonus(8)"
   ],
   "id": "fa7e1f905894a40",
   "outputs": [
    {
     "data": {
      "text/plain": [
       "(200, 250)"
      ]
     },
     "execution_count": 7,
     "metadata": {},
     "output_type": "execute_result"
    }
   ],
   "execution_count": 7
  },
  {
   "metadata": {
    "ExecuteTime": {
     "end_time": "2024-06-22T12:37:26.049400Z",
     "start_time": "2024-06-22T12:37:26.047091Z"
    }
   },
   "cell_type": "code",
   "source": [
    "# Combine Conditional Statements and Functions\n",
    "\n",
    "def add_10(m):\n",
    "    if m  >= 100:\n",
    "        m = m + 10\n",
    "        return m\n",
    "    else:\n",
    "        return \"Save more!\"\n",
    "    \n",
    "add_10(110)"
   ],
   "id": "b157a1f63abb7a98",
   "outputs": [
    {
     "data": {
      "text/plain": [
       "120"
      ]
     },
     "execution_count": 8,
     "metadata": {},
     "output_type": "execute_result"
    }
   ],
   "execution_count": 8
  },
  {
   "metadata": {
    "ExecuteTime": {
     "end_time": "2024-06-22T12:37:34.519655Z",
     "start_time": "2024-06-22T12:37:34.516913Z"
    }
   },
   "cell_type": "code",
   "source": "add_10(50)",
   "id": "f0a7e8b2c26c1840",
   "outputs": [
    {
     "data": {
      "text/plain": [
       "'Save more!'"
      ]
     },
     "execution_count": 9,
     "metadata": {},
     "output_type": "execute_result"
    }
   ],
   "execution_count": 9
  },
  {
   "metadata": {
    "ExecuteTime": {
     "end_time": "2024-06-22T12:44:49.958267Z",
     "start_time": "2024-06-22T12:44:49.955570Z"
    }
   },
   "cell_type": "code",
   "source": [
    "def compare_the_two(a, b):\n",
    "    if a > b:\n",
    "        return \"Greater\"\n",
    "    elif b > a:\n",
    "        return \"Less\"\n",
    "    else:\n",
    "        return \"Equal\"\n",
    "    \n",
    "compare_the_two(5, 5)"
   ],
   "id": "216233b3a0c4bdfe",
   "outputs": [
    {
     "data": {
      "text/plain": [
       "'Equal'"
      ]
     },
     "execution_count": 12,
     "metadata": {},
     "output_type": "execute_result"
    }
   ],
   "execution_count": 12
  },
  {
   "metadata": {},
   "cell_type": "code",
   "outputs": [],
   "execution_count": null,
   "source": "",
   "id": "eb70a4c959c4c587"
  }
 ],
 "metadata": {
  "kernelspec": {
   "display_name": "Python 3",
   "language": "python",
   "name": "python3"
  },
  "language_info": {
   "codemirror_mode": {
    "name": "ipython",
    "version": 2
   },
   "file_extension": ".py",
   "mimetype": "text/x-python",
   "name": "python",
   "nbconvert_exporter": "python",
   "pygments_lexer": "ipython2",
   "version": "2.7.6"
  }
 },
 "nbformat": 4,
 "nbformat_minor": 5
}
