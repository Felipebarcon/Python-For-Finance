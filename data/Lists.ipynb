{
 "cells": [
  {
   "cell_type": "code",
   "id": "initial_id",
   "metadata": {
    "collapsed": true,
    "ExecuteTime": {
     "end_time": "2024-06-22T16:38:06.509395Z",
     "start_time": "2024-06-22T16:38:06.506383Z"
    }
   },
   "source": "Participants = ['John', 'Leila', 'Gregory', 'Cate']",
   "outputs": [],
   "execution_count": 1
  },
  {
   "metadata": {
    "ExecuteTime": {
     "end_time": "2024-06-22T16:40:06.676463Z",
     "start_time": "2024-06-22T16:40:06.671276Z"
    }
   },
   "cell_type": "code",
   "source": "Participants[1]",
   "id": "60af9201d4481654",
   "outputs": [
    {
     "data": {
      "text/plain": [
       "'Leila'"
      ]
     },
     "execution_count": 2,
     "metadata": {},
     "output_type": "execute_result"
    }
   ],
   "execution_count": 2
  },
  {
   "metadata": {
    "ExecuteTime": {
     "end_time": "2024-06-22T16:40:49.825498Z",
     "start_time": "2024-06-22T16:40:49.822338Z"
    }
   },
   "cell_type": "code",
   "source": "Participants[-1]",
   "id": "1100aa374b2e0864",
   "outputs": [
    {
     "data": {
      "text/plain": [
       "'Cate'"
      ]
     },
     "execution_count": 3,
     "metadata": {},
     "output_type": "execute_result"
    }
   ],
   "execution_count": 3
  },
  {
   "metadata": {
    "ExecuteTime": {
     "end_time": "2024-06-22T16:41:39.320584Z",
     "start_time": "2024-06-22T16:41:39.317020Z"
    }
   },
   "cell_type": "code",
   "source": [
    "Participants[3] = 'Maria'\n",
    "Participants"
   ],
   "id": "836d3db2d8305d28",
   "outputs": [
    {
     "data": {
      "text/plain": [
       "['John', 'Leila', 'Gregory', 'Maria']"
      ]
     },
     "execution_count": 5,
     "metadata": {},
     "output_type": "execute_result"
    }
   ],
   "execution_count": 5
  },
  {
   "metadata": {
    "ExecuteTime": {
     "end_time": "2024-06-22T16:41:56.722530Z",
     "start_time": "2024-06-22T16:41:56.719238Z"
    }
   },
   "cell_type": "code",
   "source": [
    "del Participants[2]\n",
    "Participants"
   ],
   "id": "b89cd1f5bf70998b",
   "outputs": [
    {
     "data": {
      "text/plain": [
       "['John', 'Leila', 'Maria']"
      ]
     },
     "execution_count": 6,
     "metadata": {},
     "output_type": "execute_result"
    }
   ],
   "execution_count": 6
  },
  {
   "metadata": {
    "ExecuteTime": {
     "end_time": "2024-06-22T16:47:01.216572Z",
     "start_time": "2024-06-22T16:47:01.213717Z"
    }
   },
   "cell_type": "code",
   "source": [
    "Participants.append('Dwayne')\n",
    "Participants"
   ],
   "id": "88a504b68cbf5ae7",
   "outputs": [
    {
     "data": {
      "text/plain": [
       "['John', 'Leila', 'Maria', 'Dwayne']"
      ]
     },
     "execution_count": 7,
     "metadata": {},
     "output_type": "execute_result"
    }
   ],
   "execution_count": 7
  },
  {
   "metadata": {
    "ExecuteTime": {
     "end_time": "2024-06-22T16:47:50.404610Z",
     "start_time": "2024-06-22T16:47:50.400963Z"
    }
   },
   "cell_type": "code",
   "source": [
    "Participants.extend(['Gearge', 'Catherine'])\n",
    "Participants"
   ],
   "id": "894072b2b8d8e29b",
   "outputs": [
    {
     "data": {
      "text/plain": [
       "['John', 'Leila', 'Maria', 'Dwayne', 'Gearge', 'Catherine']"
      ]
     },
     "execution_count": 8,
     "metadata": {},
     "output_type": "execute_result"
    }
   ],
   "execution_count": 8
  },
  {
   "metadata": {
    "ExecuteTime": {
     "end_time": "2024-06-22T16:48:40.232866Z",
     "start_time": "2024-06-22T16:48:40.230729Z"
    }
   },
   "cell_type": "code",
   "source": "print('The first participant is ' + Participants[0] + '.')",
   "id": "3845e94da3440ec7",
   "outputs": [
    {
     "name": "stdout",
     "output_type": "stream",
     "text": [
      "The first participant is John.\n"
     ]
    }
   ],
   "execution_count": 9
  },
  {
   "metadata": {
    "ExecuteTime": {
     "end_time": "2024-06-22T16:48:50.847333Z",
     "start_time": "2024-06-22T16:48:50.843805Z"
    }
   },
   "cell_type": "code",
   "source": "len(Participants)",
   "id": "b5ac5277573df003",
   "outputs": [
    {
     "data": {
      "text/plain": [
       "6"
      ]
     },
     "execution_count": 10,
     "metadata": {},
     "output_type": "execute_result"
    }
   ],
   "execution_count": 10
  },
  {
   "metadata": {
    "ExecuteTime": {
     "end_time": "2024-06-22T16:56:56.553684Z",
     "start_time": "2024-06-22T16:56:56.550971Z"
    }
   },
   "cell_type": "code",
   "source": "Participants[1:3]",
   "id": "96ef5e1e9003c157",
   "outputs": [
    {
     "data": {
      "text/plain": [
       "['Leila', 'Maria']"
      ]
     },
     "execution_count": 11,
     "metadata": {},
     "output_type": "execute_result"
    }
   ],
   "execution_count": 11
  },
  {
   "metadata": {
    "ExecuteTime": {
     "end_time": "2024-06-22T16:57:24.908854Z",
     "start_time": "2024-06-22T16:57:24.906079Z"
    }
   },
   "cell_type": "code",
   "source": "Participants[:2]",
   "id": "503ec6e28a0c9884",
   "outputs": [
    {
     "data": {
      "text/plain": [
       "['John', 'Leila']"
      ]
     },
     "execution_count": 12,
     "metadata": {},
     "output_type": "execute_result"
    }
   ],
   "execution_count": 12
  },
  {
   "metadata": {
    "ExecuteTime": {
     "end_time": "2024-06-22T16:57:46.707613Z",
     "start_time": "2024-06-22T16:57:46.704426Z"
    }
   },
   "cell_type": "code",
   "source": "Participants[4:]",
   "id": "2cd450fce0f0fa3c",
   "outputs": [
    {
     "data": {
      "text/plain": [
       "['Gearge', 'Catherine']"
      ]
     },
     "execution_count": 13,
     "metadata": {},
     "output_type": "execute_result"
    }
   ],
   "execution_count": 13
  },
  {
   "metadata": {
    "ExecuteTime": {
     "end_time": "2024-06-22T16:58:04.102265Z",
     "start_time": "2024-06-22T16:58:04.099131Z"
    }
   },
   "cell_type": "code",
   "source": "Participants[-2:]",
   "id": "508e1bc7d3d3c01",
   "outputs": [
    {
     "data": {
      "text/plain": [
       "['Gearge', 'Catherine']"
      ]
     },
     "execution_count": 14,
     "metadata": {},
     "output_type": "execute_result"
    }
   ],
   "execution_count": 14
  },
  {
   "metadata": {
    "ExecuteTime": {
     "end_time": "2024-06-22T16:58:34.333457Z",
     "start_time": "2024-06-22T16:58:34.331004Z"
    }
   },
   "cell_type": "code",
   "source": "Participants.index('Maria')",
   "id": "49e58aa4bd1581f1",
   "outputs": [
    {
     "data": {
      "text/plain": [
       "2"
      ]
     },
     "execution_count": 15,
     "metadata": {},
     "output_type": "execute_result"
    }
   ],
   "execution_count": 15
  },
  {
   "metadata": {
    "ExecuteTime": {
     "end_time": "2024-06-22T16:58:48.865143Z",
     "start_time": "2024-06-22T16:58:48.862872Z"
    }
   },
   "cell_type": "code",
   "source": "Participants",
   "id": "63c943c8892df845",
   "outputs": [
    {
     "data": {
      "text/plain": [
       "['John', 'Leila', 'Maria', 'Dwayne', 'Gearge', 'Catherine']"
      ]
     },
     "execution_count": 16,
     "metadata": {},
     "output_type": "execute_result"
    }
   ],
   "execution_count": 16
  },
  {
   "metadata": {
    "ExecuteTime": {
     "end_time": "2024-06-22T16:59:21.284899Z",
     "start_time": "2024-06-22T16:59:21.283217Z"
    }
   },
   "cell_type": "code",
   "source": "Newcomers = ['Joshua', 'Brittany']",
   "id": "9731f25eb393c2cc",
   "outputs": [],
   "execution_count": 17
  },
  {
   "metadata": {
    "ExecuteTime": {
     "end_time": "2024-06-22T17:00:08.929501Z",
     "start_time": "2024-06-22T17:00:08.926900Z"
    }
   },
   "cell_type": "code",
   "source": [
    "Bigger_List = [Participants, Newcomers]\n",
    "Bigger_List"
   ],
   "id": "79552509ead80fa6",
   "outputs": [
    {
     "data": {
      "text/plain": [
       "[['John', 'Leila', 'Maria', 'Dwayne', 'Gearge', 'Catherine'],\n",
       " ['Joshua', 'Brittany']]"
      ]
     },
     "execution_count": 18,
     "metadata": {},
     "output_type": "execute_result"
    }
   ],
   "execution_count": 18
  },
  {
   "metadata": {
    "ExecuteTime": {
     "end_time": "2024-06-22T17:00:26.008492Z",
     "start_time": "2024-06-22T17:00:26.005656Z"
    }
   },
   "cell_type": "code",
   "source": [
    "Participants.sort()\n",
    "Participants"
   ],
   "id": "fc3a457dc6a4ad47",
   "outputs": [
    {
     "data": {
      "text/plain": [
       "['Catherine', 'Dwayne', 'Gearge', 'John', 'Leila', 'Maria']"
      ]
     },
     "execution_count": 19,
     "metadata": {},
     "output_type": "execute_result"
    }
   ],
   "execution_count": 19
  },
  {
   "metadata": {
    "ExecuteTime": {
     "end_time": "2024-06-22T17:01:11.917200Z",
     "start_time": "2024-06-22T17:01:11.913963Z"
    }
   },
   "cell_type": "code",
   "source": [
    "Participants.sort(reverse=True)\n",
    "Participants"
   ],
   "id": "67ff558847148cf2",
   "outputs": [
    {
     "data": {
      "text/plain": [
       "['Maria', 'Leila', 'John', 'Gearge', 'Dwayne', 'Catherine']"
      ]
     },
     "execution_count": 21,
     "metadata": {},
     "output_type": "execute_result"
    }
   ],
   "execution_count": 21
  },
  {
   "metadata": {
    "ExecuteTime": {
     "end_time": "2024-06-22T17:01:53.548732Z",
     "start_time": "2024-06-22T17:01:53.545062Z"
    }
   },
   "cell_type": "code",
   "source": [
    "Numbers = [1,2,3,4,5]\n",
    "Numbers.sort()\n",
    "Numbers"
   ],
   "id": "893248e510d742d1",
   "outputs": [
    {
     "data": {
      "text/plain": [
       "[1, 2, 3, 4, 5]"
      ]
     },
     "execution_count": 23,
     "metadata": {},
     "output_type": "execute_result"
    }
   ],
   "execution_count": 23
  },
  {
   "metadata": {
    "ExecuteTime": {
     "end_time": "2024-06-22T17:02:28.500290Z",
     "start_time": "2024-06-22T17:02:28.497218Z"
    }
   },
   "cell_type": "code",
   "source": [
    "Numbers.sort(reverse=True)\n",
    "Numbers"
   ],
   "id": "3efdc4c5d7433160",
   "outputs": [
    {
     "data": {
      "text/plain": [
       "[5, 4, 3, 2, 1]"
      ]
     },
     "execution_count": 24,
     "metadata": {},
     "output_type": "execute_result"
    }
   ],
   "execution_count": 24
  },
  {
   "metadata": {
    "ExecuteTime": {
     "end_time": "2024-06-22T17:04:49.988957Z",
     "start_time": "2024-06-22T17:04:49.796921Z"
    }
   },
   "cell_type": "code",
   "source": [
    "Numbers = [15, 40, 50, 100, 115, 140]\n",
    "Numbers.slice(1)"
   ],
   "id": "c07af21317066e61",
   "outputs": [
    {
     "ename": "AttributeError",
     "evalue": "'list' object has no attribute 'slice'",
     "output_type": "error",
     "traceback": [
      "\u001B[0;31m---------------------------------------------------------------------------\u001B[0m",
      "\u001B[0;31mAttributeError\u001B[0m                            Traceback (most recent call last)",
      "Cell \u001B[0;32mIn[25], line 2\u001B[0m\n\u001B[1;32m      1\u001B[0m Numbers \u001B[38;5;241m=\u001B[39m [\u001B[38;5;241m15\u001B[39m, \u001B[38;5;241m40\u001B[39m, \u001B[38;5;241m50\u001B[39m, \u001B[38;5;241m100\u001B[39m, \u001B[38;5;241m115\u001B[39m, \u001B[38;5;241m140\u001B[39m]\n\u001B[0;32m----> 2\u001B[0m Numbers\u001B[38;5;241m.\u001B[39mslice(\u001B[38;5;241m1\u001B[39m)\n",
      "\u001B[0;31mAttributeError\u001B[0m: 'list' object has no attribute 'slice'"
     ]
    }
   ],
   "execution_count": 25
  },
  {
   "metadata": {
    "ExecuteTime": {
     "end_time": "2024-06-22T17:05:48.834445Z",
     "start_time": "2024-06-22T17:05:48.832121Z"
    }
   },
   "cell_type": "code",
   "source": "Numbers[3:5]",
   "id": "ec7490c690c2cd12",
   "outputs": [
    {
     "data": {
      "text/plain": [
       "[100, 115]"
      ]
     },
     "execution_count": 28,
     "metadata": {},
     "output_type": "execute_result"
    }
   ],
   "execution_count": 28
  },
  {
   "metadata": {},
   "cell_type": "code",
   "outputs": [],
   "execution_count": null,
   "source": "",
   "id": "7dda784ccaa0cdda"
  }
 ],
 "metadata": {
  "kernelspec": {
   "display_name": "Python 3",
   "language": "python",
   "name": "python3"
  },
  "language_info": {
   "codemirror_mode": {
    "name": "ipython",
    "version": 2
   },
   "file_extension": ".py",
   "mimetype": "text/x-python",
   "name": "python",
   "nbconvert_exporter": "python",
   "pygments_lexer": "ipython2",
   "version": "2.7.6"
  }
 },
 "nbformat": 4,
 "nbformat_minor": 5
}
